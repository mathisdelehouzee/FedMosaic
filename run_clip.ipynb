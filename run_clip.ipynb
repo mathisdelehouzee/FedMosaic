{
 "cells": [
  {
   "cell_type": "markdown",
   "id": "3aabde9d",
   "metadata": {},
   "source": [
    "# Extract the embedding vectors from pre-trained clip model for image and text \n",
    "The model is from https://huggingface.co/openai/clip-vit-base-patch32\n",
    "\n"
   ]
  },
  {
   "cell_type": "code",
   "execution_count": 1,
   "id": "20ef8fb4",
   "metadata": {},
   "outputs": [],
   "source": [
    "#!pip install transformers torch pillow requests\n",
    "#!pip install pip install SimpleITK        "
   ]
  },
  {
   "cell_type": "code",
   "execution_count": 5,
   "id": "4ce9865b",
   "metadata": {},
   "outputs": [],
   "source": [
    "from PIL import Image\n",
    "import requests\n",
    "\n",
    "from transformers import CLIPProcessor, CLIPModel\n",
    "import numpy as np\n",
    "import matplotlib.pyplot as plt\n",
    "import os \n",
    "import torch\n",
    "\n"
   ]
  },
  {
   "cell_type": "code",
   "execution_count": 6,
   "id": "3c86129a",
   "metadata": {},
   "outputs": [],
   "source": [
    "\"\"\"\n",
    "Script: Load an image, normalize pixel values, and extract CLIP image embeddings.\n",
    "\n",
    "Steps:\n",
    "1. Load the image from disk and convert to RGB.\n",
    "2. (Optional) Convert to a NumPy array and normalize intensities to [0, 255].\n",
    "3. Convert normalized array back to PIL (RGB).\n",
    "4. Load the CLIP model and processor.\n",
    "5. Preprocess the image and extract its 512‑dim embedding.\n",
    "\"\"\"\n",
    "\n",
    "\n",
    "def load_image(image_path: str):\n",
    "    pil_img = Image.open(image_path).convert(\"RGB\")\n",
    "    image_array = np.array(pil_img).astype(np.uint8)\n",
    "    return pil_img, image_array\n",
    "\n",
    "\n",
    "\n",
    "def extract_clip_image_embedding(pil_img: Image.Image,\n",
    "                                 model_name: str = \"openai/clip-vit-base-patch32\") -> torch.Tensor:\n",
    "    \"\"\"\n",
    "    Given a PIL image, run it through CLIP's vision encoder and return its embedding.\n",
    "\n",
    "    Args:\n",
    "        pil_img (PIL.Image.Image): Input RGB image.\n",
    "        model_name (str): Hugging Face identifier for the CLIP variant.\n",
    "\n",
    "    Returns:\n",
    "        image_embeds (torch.Tensor): L2-normalized image embedding, shape (1, 512).\n",
    "    \"\"\"\n",
    "    processor = CLIPProcessor.from_pretrained(model_name)\n",
    "    model = CLIPModel.from_pretrained(model_name)\n",
    "\n",
    "    # Preprocess and convert to tensors\n",
    "    inputs = processor(images=pil_img, return_tensors=\"pt\")\n",
    "    \n",
    "    # Extract features without computing gradients\n",
    "    with torch.no_grad():\n",
    "        image_embeds = model.get_image_features(**inputs)\n",
    "        # Ensure the embedding is L2-normalized\n",
    "        image_embeds = image_embeds / image_embeds.norm(p=2, dim=-1, keepdim=True)\n",
    "    \n",
    "    return image_embeds\n",
    "\n",
    "\n",
    "\n"
   ]
  },
  {
   "cell_type": "code",
   "execution_count": null,
   "id": "da8d3d3b",
   "metadata": {},
   "outputs": [
    {
     "name": "stderr",
     "output_type": "stream",
     "text": [
      "Using a slow image processor as `use_fast` is unset and a slow processor was saved with this model. `use_fast=True` will be the default behavior in v4.52, even if the model was saved with a slow processor. This will result in minor differences in outputs. You'll still be able to use a slow processor with `use_fast=False`.\n"
     ]
    },
    {
     "name": "stdout",
     "output_type": "stream",
     "text": [
      "Image loaded: (2544, 3056, 3), dtype: uint8\n",
      "CLIP image embedding: torch.Size([1, 512])\n"
     ]
    }
   ],
   "source": [
    "IMAGE_PATH = \"/home/mathisd/Documents/FedMosaic/physionet.org/files/mimic-cxr-jpg/2.1.0/preprocessed_data/img/10009049_55602594.jpg\"\n",
    "\n",
    "# Load and normalize\n",
    "pil_image, normalized_array = load_image(IMAGE_PATH)\n",
    "print(f\"Image loaded: {normalized_array.shape}, dtype: {normalized_array.dtype}\")\n",
    "\n",
    "# Extract CLIP embedding\n",
    "embeds = extract_clip_image_embedding(pil_image)\n",
    "print(f\"CLIP image embedding: {embeds.shape}\")\n",
    "#save the embedding to a file\n",
    "output_file = \"clip_image_embedding.pt\"\n",
    "torch.save(embeds, output_file)\n"
   ]
  }
 ],
 "metadata": {
  "kernelspec": {
   "display_name": ".env_fedmo",
   "language": "python",
   "name": "python3"
  },
  "language_info": {
   "codemirror_mode": {
    "name": "ipython",
    "version": 3
   },
   "file_extension": ".py",
   "mimetype": "text/x-python",
   "name": "python",
   "nbconvert_exporter": "python",
   "pygments_lexer": "ipython3",
   "version": "3.11.2"
  }
 },
 "nbformat": 4,
 "nbformat_minor": 5
}
